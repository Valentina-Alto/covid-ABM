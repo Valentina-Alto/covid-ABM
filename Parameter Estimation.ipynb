{
 "cells": [
  {
   "cell_type": "markdown",
   "metadata": {
    "id": "HGHv32TiVTCd"
   },
   "source": [
    "# Parameters Estimation <a name=\"params\"></a> "
   ]
  },
  {
   "cell_type": "code",
   "execution_count": null,
   "metadata": {
    "colab": {
     "base_uri": "https://localhost:8080/",
     "height": 122
    },
    "executionInfo": {
     "elapsed": 20695,
     "status": "ok",
     "timestamp": 1596004938100,
     "user": {
      "displayName": "Valentina A",
      "photoUrl": "",
      "userId": "05811507639483269545"
     },
     "user_tz": -120
    },
    "id": "zJibYZRXVTCd",
    "outputId": "d6953776-ce99-45fa-c7a3-37b6b8b5bfdd"
   },
   "outputs": [],
   "source": [
    "import sys \n",
    "import numpy as np\n",
    "import pandas as pd\n",
    "import matplotlib.pyplot as plt\n",
    "from pandas.plotting import register_matplotlib_converters\n",
    "register_matplotlib_converters()\n",
    "\n",
    "'''for calibration'''\n",
    "from scipy.stats import poisson  \n",
    "\n",
    "'''for derivative'''\n",
    "from scipy.integrate import odeint"
   ]
  },
  {
   "cell_type": "code",
   "execution_count": null,
   "metadata": {
    "colab": {
     "base_uri": "https://localhost:8080/",
     "height": 515
    },
    "executionInfo": {
     "elapsed": 2067,
     "status": "ok",
     "timestamp": 1596004947242,
     "user": {
      "displayName": "Valentina A",
      "photoUrl": "",
      "userId": "05811507639483269545"
     },
     "user_tz": -120
    },
    "id": "ziLQ_8eMVTCh",
    "outputId": "310c0a34-e32d-439a-a144-7f5680fd73e7"
   },
   "outputs": [
    {
     "name": "stderr",
     "output_type": "stream",
     "text": [
      "/usr/local/lib/python3.6/dist-packages/pandas/core/generic.py:3936: PerformanceWarning: dropping on a non-lexsorted multi-index without a level parameter may impact performance.\n",
      "  obj = obj._drop_axis(labels, axis, level=level, errors=errors)\n"
     ]
    },
    {
     "data": {
      "text/html": [
       "<div>\n",
       "<style scoped>\n",
       "    .dataframe tbody tr th:only-of-type {\n",
       "        vertical-align: middle;\n",
       "    }\n",
       "\n",
       "    .dataframe tbody tr th {\n",
       "        vertical-align: top;\n",
       "    }\n",
       "\n",
       "    .dataframe thead tr th {\n",
       "        text-align: left;\n",
       "    }\n",
       "\n",
       "    .dataframe thead tr:last-of-type th {\n",
       "        text-align: right;\n",
       "    }\n",
       "</style>\n",
       "<table border=\"1\" class=\"dataframe\">\n",
       "  <thead>\n",
       "    <tr>\n",
       "      <th></th>\n",
       "      <th colspan=\"2\" halign=\"left\">Confirmed</th>\n",
       "      <th colspan=\"2\" halign=\"left\">Deaths</th>\n",
       "      <th colspan=\"2\" halign=\"left\">Active</th>\n",
       "      <th colspan=\"2\" halign=\"left\">Recoveries</th>\n",
       "      <th>Susceptibles</th>\n",
       "      <th>Tests</th>\n",
       "    </tr>\n",
       "    <tr>\n",
       "      <th></th>\n",
       "      <th>New</th>\n",
       "      <th>Total</th>\n",
       "      <th>New</th>\n",
       "      <th>Total</th>\n",
       "      <th>ICU</th>\n",
       "      <th>Total</th>\n",
       "      <th>New</th>\n",
       "      <th>Total</th>\n",
       "      <th>Total</th>\n",
       "      <th>Total</th>\n",
       "    </tr>\n",
       "    <tr>\n",
       "      <th>Data</th>\n",
       "      <th></th>\n",
       "      <th></th>\n",
       "      <th></th>\n",
       "      <th></th>\n",
       "      <th></th>\n",
       "      <th></th>\n",
       "      <th></th>\n",
       "      <th></th>\n",
       "      <th></th>\n",
       "      <th></th>\n",
       "    </tr>\n",
       "  </thead>\n",
       "  <tbody>\n",
       "    <tr>\n",
       "      <th>2020-01-31</th>\n",
       "      <td>2</td>\n",
       "      <td>2</td>\n",
       "      <td>0</td>\n",
       "      <td>0</td>\n",
       "      <td>0</td>\n",
       "      <td>2</td>\n",
       "      <td>0</td>\n",
       "      <td>0</td>\n",
       "      <td>60479998</td>\n",
       "      <td>NaN</td>\n",
       "    </tr>\n",
       "    <tr>\n",
       "      <th>2020-02-06</th>\n",
       "      <td>1</td>\n",
       "      <td>3</td>\n",
       "      <td>0</td>\n",
       "      <td>0</td>\n",
       "      <td>0</td>\n",
       "      <td>3</td>\n",
       "      <td>0</td>\n",
       "      <td>0</td>\n",
       "      <td>60479997</td>\n",
       "      <td>NaN</td>\n",
       "    </tr>\n",
       "    <tr>\n",
       "      <th>2020-02-21</th>\n",
       "      <td>17</td>\n",
       "      <td>20</td>\n",
       "      <td>1</td>\n",
       "      <td>1</td>\n",
       "      <td>0</td>\n",
       "      <td>19</td>\n",
       "      <td>0</td>\n",
       "      <td>0</td>\n",
       "      <td>60479980</td>\n",
       "      <td>NaN</td>\n",
       "    </tr>\n",
       "    <tr>\n",
       "      <th>2020-02-22</th>\n",
       "      <td>59</td>\n",
       "      <td>79</td>\n",
       "      <td>1</td>\n",
       "      <td>2</td>\n",
       "      <td>18</td>\n",
       "      <td>75</td>\n",
       "      <td>0</td>\n",
       "      <td>0</td>\n",
       "      <td>60479923</td>\n",
       "      <td>NaN</td>\n",
       "    </tr>\n",
       "    <tr>\n",
       "      <th>2020-02-23</th>\n",
       "      <td>71</td>\n",
       "      <td>150</td>\n",
       "      <td>1</td>\n",
       "      <td>3</td>\n",
       "      <td>25</td>\n",
       "      <td>147</td>\n",
       "      <td>0</td>\n",
       "      <td>0</td>\n",
       "      <td>60479850</td>\n",
       "      <td>NaN</td>\n",
       "    </tr>\n",
       "    <tr>\n",
       "      <th>...</th>\n",
       "      <td>...</td>\n",
       "      <td>...</td>\n",
       "      <td>...</td>\n",
       "      <td>...</td>\n",
       "      <td>...</td>\n",
       "      <td>...</td>\n",
       "      <td>...</td>\n",
       "      <td>...</td>\n",
       "      <td>...</td>\n",
       "      <td>...</td>\n",
       "    </tr>\n",
       "    <tr>\n",
       "      <th>2020-07-20</th>\n",
       "      <td>190</td>\n",
       "      <td>244624</td>\n",
       "      <td>13</td>\n",
       "      <td>35058</td>\n",
       "      <td>47</td>\n",
       "      <td>12404</td>\n",
       "      <td>213</td>\n",
       "      <td>197162</td>\n",
       "      <td>60235376</td>\n",
       "      <td>6262302</td>\n",
       "    </tr>\n",
       "    <tr>\n",
       "      <th>2020-07-21</th>\n",
       "      <td>129</td>\n",
       "      <td>244752</td>\n",
       "      <td>15</td>\n",
       "      <td>35073</td>\n",
       "      <td>49</td>\n",
       "      <td>12248</td>\n",
       "      <td>269</td>\n",
       "      <td>197431</td>\n",
       "      <td>60235248</td>\n",
       "      <td>6305412</td>\n",
       "    </tr>\n",
       "    <tr>\n",
       "      <th>2020-07-22</th>\n",
       "      <td>282</td>\n",
       "      <td>245032</td>\n",
       "      <td>9</td>\n",
       "      <td>35082</td>\n",
       "      <td>48</td>\n",
       "      <td>12322</td>\n",
       "      <td>197</td>\n",
       "      <td>197628</td>\n",
       "      <td>60234968</td>\n",
       "      <td>6354730</td>\n",
       "    </tr>\n",
       "    <tr>\n",
       "      <th>2020-07-23</th>\n",
       "      <td>306</td>\n",
       "      <td>245338</td>\n",
       "      <td>10</td>\n",
       "      <td>35092</td>\n",
       "      <td>49</td>\n",
       "      <td>12404</td>\n",
       "      <td>214</td>\n",
       "      <td>197842</td>\n",
       "      <td>60234662</td>\n",
       "      <td>6415041</td>\n",
       "    </tr>\n",
       "    <tr>\n",
       "      <th>2020-07-24</th>\n",
       "      <td>252</td>\n",
       "      <td>245590</td>\n",
       "      <td>5</td>\n",
       "      <td>35097</td>\n",
       "      <td>46</td>\n",
       "      <td>12301</td>\n",
       "      <td>350</td>\n",
       "      <td>198192</td>\n",
       "      <td>60234410</td>\n",
       "      <td>6468375</td>\n",
       "    </tr>\n",
       "  </tbody>\n",
       "</table>\n",
       "<p>157 rows × 10 columns</p>\n",
       "</div>"
      ],
      "text/plain": [
       "           Confirmed         Deaths  ... Recoveries Susceptibles    Tests\n",
       "                 New   Total    New  ...      Total        Total    Total\n",
       "Data                                 ...                                 \n",
       "2020-01-31         2       2      0  ...          0     60479998      NaN\n",
       "2020-02-06         1       3      0  ...          0     60479997      NaN\n",
       "2020-02-21        17      20      1  ...          0     60479980      NaN\n",
       "2020-02-22        59      79      1  ...          0     60479923      NaN\n",
       "2020-02-23        71     150      1  ...          0     60479850      NaN\n",
       "...              ...     ...    ...  ...        ...          ...      ...\n",
       "2020-07-20       190  244624     13  ...     197162     60235376  6262302\n",
       "2020-07-21       129  244752     15  ...     197431     60235248  6305412\n",
       "2020-07-22       282  245032      9  ...     197628     60234968  6354730\n",
       "2020-07-23       306  245338     10  ...     197842     60234662  6415041\n",
       "2020-07-24       252  245590      5  ...     198192     60234410  6468375\n",
       "\n",
       "[157 rows x 10 columns]"
      ]
     },
     "execution_count": 9,
     "metadata": {
      "tags": []
     },
     "output_type": "execute_result"
    }
   ],
   "source": [
    "import pandas as pd\n",
    "import pandas as pd\n",
    "df = pd.read_excel('wiki_cases_covid.xlsx',header=[0,1])\n",
    "df['Data']=pd.to_datetime(df['Date']['Unnamed: 0_level_1'], infer_datetime_format=True)\n",
    "df = df.set_index('Data', drop=True).drop('Date', axis = 1)\n",
    "df"
   ]
  },
  {
   "cell_type": "code",
   "execution_count": null,
   "metadata": {
    "colab": {
     "base_uri": "https://localhost:8080/",
     "height": 700
    },
    "executionInfo": {
     "elapsed": 832,
     "status": "ok",
     "timestamp": 1596004949140,
     "user": {
      "displayName": "Valentina A",
      "photoUrl": "",
      "userId": "05811507639483269545"
     },
     "user_tz": -120
    },
    "id": "jRfqjAXyNGVX",
    "outputId": "19961ccb-1797-43da-a923-8c7ff0835e0d"
   },
   "outputs": [
    {
     "data": {
      "text/html": [
       "<div>\n",
       "<style scoped>\n",
       "    .dataframe tbody tr th:only-of-type {\n",
       "        vertical-align: middle;\n",
       "    }\n",
       "\n",
       "    .dataframe tbody tr th {\n",
       "        vertical-align: top;\n",
       "    }\n",
       "\n",
       "    .dataframe thead tr th {\n",
       "        text-align: left;\n",
       "    }\n",
       "\n",
       "    .dataframe thead tr:last-of-type th {\n",
       "        text-align: right;\n",
       "    }\n",
       "</style>\n",
       "<table border=\"1\" class=\"dataframe\">\n",
       "  <thead>\n",
       "    <tr>\n",
       "      <th></th>\n",
       "      <th colspan=\"2\" halign=\"left\">Confirmed</th>\n",
       "      <th colspan=\"2\" halign=\"left\">Deaths</th>\n",
       "      <th colspan=\"2\" halign=\"left\">Active</th>\n",
       "      <th colspan=\"2\" halign=\"left\">Recoveries</th>\n",
       "      <th>Susceptibles</th>\n",
       "      <th>Tests</th>\n",
       "    </tr>\n",
       "    <tr>\n",
       "      <th></th>\n",
       "      <th>New</th>\n",
       "      <th>Total</th>\n",
       "      <th>New</th>\n",
       "      <th>Total</th>\n",
       "      <th>ICU</th>\n",
       "      <th>Total</th>\n",
       "      <th>New</th>\n",
       "      <th>Total</th>\n",
       "      <th>Total</th>\n",
       "      <th>Total</th>\n",
       "    </tr>\n",
       "    <tr>\n",
       "      <th>Data</th>\n",
       "      <th></th>\n",
       "      <th></th>\n",
       "      <th></th>\n",
       "      <th></th>\n",
       "      <th></th>\n",
       "      <th></th>\n",
       "      <th></th>\n",
       "      <th></th>\n",
       "      <th></th>\n",
       "      <th></th>\n",
       "    </tr>\n",
       "  </thead>\n",
       "  <tbody>\n",
       "    <tr>\n",
       "      <th>2020-01-31</th>\n",
       "      <td>2</td>\n",
       "      <td>2</td>\n",
       "      <td>0</td>\n",
       "      <td>0</td>\n",
       "      <td>0</td>\n",
       "      <td>2</td>\n",
       "      <td>0</td>\n",
       "      <td>0</td>\n",
       "      <td>60479998</td>\n",
       "      <td>NaN</td>\n",
       "    </tr>\n",
       "    <tr>\n",
       "      <th>2020-02-06</th>\n",
       "      <td>1</td>\n",
       "      <td>3</td>\n",
       "      <td>0</td>\n",
       "      <td>0</td>\n",
       "      <td>0</td>\n",
       "      <td>3</td>\n",
       "      <td>0</td>\n",
       "      <td>0</td>\n",
       "      <td>60479997</td>\n",
       "      <td>NaN</td>\n",
       "    </tr>\n",
       "    <tr>\n",
       "      <th>2020-02-21</th>\n",
       "      <td>17</td>\n",
       "      <td>20</td>\n",
       "      <td>1</td>\n",
       "      <td>1</td>\n",
       "      <td>0</td>\n",
       "      <td>19</td>\n",
       "      <td>0</td>\n",
       "      <td>0</td>\n",
       "      <td>60479980</td>\n",
       "      <td>NaN</td>\n",
       "    </tr>\n",
       "    <tr>\n",
       "      <th>2020-02-22</th>\n",
       "      <td>59</td>\n",
       "      <td>79</td>\n",
       "      <td>1</td>\n",
       "      <td>2</td>\n",
       "      <td>18</td>\n",
       "      <td>75</td>\n",
       "      <td>0</td>\n",
       "      <td>0</td>\n",
       "      <td>60479923</td>\n",
       "      <td>NaN</td>\n",
       "    </tr>\n",
       "    <tr>\n",
       "      <th>2020-02-23</th>\n",
       "      <td>71</td>\n",
       "      <td>150</td>\n",
       "      <td>1</td>\n",
       "      <td>3</td>\n",
       "      <td>25</td>\n",
       "      <td>147</td>\n",
       "      <td>0</td>\n",
       "      <td>0</td>\n",
       "      <td>60479850</td>\n",
       "      <td>NaN</td>\n",
       "    </tr>\n",
       "    <tr>\n",
       "      <th>2020-02-24</th>\n",
       "      <td>77</td>\n",
       "      <td>227</td>\n",
       "      <td>4</td>\n",
       "      <td>7</td>\n",
       "      <td>27</td>\n",
       "      <td>199</td>\n",
       "      <td>1</td>\n",
       "      <td>1</td>\n",
       "      <td>60479793</td>\n",
       "      <td>NaN</td>\n",
       "    </tr>\n",
       "    <tr>\n",
       "      <th>2020-02-25</th>\n",
       "      <td>93</td>\n",
       "      <td>320</td>\n",
       "      <td>3</td>\n",
       "      <td>10</td>\n",
       "      <td>35</td>\n",
       "      <td>309</td>\n",
       "      <td>0</td>\n",
       "      <td>1</td>\n",
       "      <td>60479680</td>\n",
       "      <td>&gt;8,600</td>\n",
       "    </tr>\n",
       "    <tr>\n",
       "      <th>2020-02-26</th>\n",
       "      <td>125</td>\n",
       "      <td>445</td>\n",
       "      <td>2</td>\n",
       "      <td>12</td>\n",
       "      <td>36</td>\n",
       "      <td>430</td>\n",
       "      <td>2</td>\n",
       "      <td>3</td>\n",
       "      <td>60479555</td>\n",
       "      <td>9587</td>\n",
       "    </tr>\n",
       "    <tr>\n",
       "      <th>2020-02-27</th>\n",
       "      <td>205</td>\n",
       "      <td>650</td>\n",
       "      <td>5</td>\n",
       "      <td>17</td>\n",
       "      <td>56</td>\n",
       "      <td>588</td>\n",
       "      <td>42</td>\n",
       "      <td>45</td>\n",
       "      <td>60479350</td>\n",
       "      <td>12014</td>\n",
       "    </tr>\n",
       "    <tr>\n",
       "      <th>2020-02-28</th>\n",
       "      <td>238</td>\n",
       "      <td>888</td>\n",
       "      <td>4</td>\n",
       "      <td>21</td>\n",
       "      <td>64</td>\n",
       "      <td>821</td>\n",
       "      <td>1</td>\n",
       "      <td>46</td>\n",
       "      <td>60479112</td>\n",
       "      <td>15695</td>\n",
       "    </tr>\n",
       "    <tr>\n",
       "      <th>2020-02-29</th>\n",
       "      <td>240</td>\n",
       "      <td>1128</td>\n",
       "      <td>8</td>\n",
       "      <td>29</td>\n",
       "      <td>105</td>\n",
       "      <td>1049</td>\n",
       "      <td>4</td>\n",
       "      <td>50</td>\n",
       "      <td>60478872</td>\n",
       "      <td>18661</td>\n",
       "    </tr>\n",
       "    <tr>\n",
       "      <th>2020-03-01</th>\n",
       "      <td>566</td>\n",
       "      <td>1694</td>\n",
       "      <td>5</td>\n",
       "      <td>34</td>\n",
       "      <td>140</td>\n",
       "      <td>1577</td>\n",
       "      <td>33</td>\n",
       "      <td>83</td>\n",
       "      <td>60478306</td>\n",
       "      <td>21127</td>\n",
       "    </tr>\n",
       "    <tr>\n",
       "      <th>2020-03-02</th>\n",
       "      <td>342</td>\n",
       "      <td>2036</td>\n",
       "      <td>18</td>\n",
       "      <td>52</td>\n",
       "      <td>166</td>\n",
       "      <td>1835</td>\n",
       "      <td>66</td>\n",
       "      <td>149</td>\n",
       "      <td>60477964</td>\n",
       "      <td>23345</td>\n",
       "    </tr>\n",
       "    <tr>\n",
       "      <th>2020-03-03</th>\n",
       "      <td>466</td>\n",
       "      <td>2502</td>\n",
       "      <td>27</td>\n",
       "      <td>79</td>\n",
       "      <td>229</td>\n",
       "      <td>2263</td>\n",
       "      <td>11</td>\n",
       "      <td>160</td>\n",
       "      <td>60477498</td>\n",
       "      <td>25856</td>\n",
       "    </tr>\n",
       "    <tr>\n",
       "      <th>2020-03-04</th>\n",
       "      <td>587</td>\n",
       "      <td>3089</td>\n",
       "      <td>28</td>\n",
       "      <td>107</td>\n",
       "      <td>295</td>\n",
       "      <td>2706</td>\n",
       "      <td>116</td>\n",
       "      <td>276</td>\n",
       "      <td>60476911</td>\n",
       "      <td>29837</td>\n",
       "    </tr>\n",
       "    <tr>\n",
       "      <th>2020-03-05</th>\n",
       "      <td>769</td>\n",
       "      <td>3858</td>\n",
       "      <td>41</td>\n",
       "      <td>148</td>\n",
       "      <td>351</td>\n",
       "      <td>3296</td>\n",
       "      <td>138</td>\n",
       "      <td>414</td>\n",
       "      <td>60476142</td>\n",
       "      <td>32362</td>\n",
       "    </tr>\n",
       "    <tr>\n",
       "      <th>2020-03-06</th>\n",
       "      <td>778</td>\n",
       "      <td>4636</td>\n",
       "      <td>49</td>\n",
       "      <td>197</td>\n",
       "      <td>462</td>\n",
       "      <td>3916</td>\n",
       "      <td>109</td>\n",
       "      <td>523</td>\n",
       "      <td>60475364</td>\n",
       "      <td>36359</td>\n",
       "    </tr>\n",
       "    <tr>\n",
       "      <th>2020-03-07</th>\n",
       "      <td>1247</td>\n",
       "      <td>5883</td>\n",
       "      <td>36</td>\n",
       "      <td>233</td>\n",
       "      <td>567</td>\n",
       "      <td>5061</td>\n",
       "      <td>66</td>\n",
       "      <td>589</td>\n",
       "      <td>60474117</td>\n",
       "      <td>42062</td>\n",
       "    </tr>\n",
       "    <tr>\n",
       "      <th>2020-03-08</th>\n",
       "      <td>1492</td>\n",
       "      <td>7375</td>\n",
       "      <td>133</td>\n",
       "      <td>366</td>\n",
       "      <td>650</td>\n",
       "      <td>6387</td>\n",
       "      <td>33</td>\n",
       "      <td>622</td>\n",
       "      <td>60472625</td>\n",
       "      <td>49937</td>\n",
       "    </tr>\n",
       "  </tbody>\n",
       "</table>\n",
       "</div>"
      ],
      "text/plain": [
       "           Confirmed       Deaths        ... Recoveries       Susceptibles   Tests\n",
       "                 New Total    New Total  ...        New Total        Total   Total\n",
       "Data                                     ...                                      \n",
       "2020-01-31         2     2      0     0  ...          0     0     60479998     NaN\n",
       "2020-02-06         1     3      0     0  ...          0     0     60479997     NaN\n",
       "2020-02-21        17    20      1     1  ...          0     0     60479980     NaN\n",
       "2020-02-22        59    79      1     2  ...          0     0     60479923     NaN\n",
       "2020-02-23        71   150      1     3  ...          0     0     60479850     NaN\n",
       "2020-02-24        77   227      4     7  ...          1     1     60479793     NaN\n",
       "2020-02-25        93   320      3    10  ...          0     1     60479680  >8,600\n",
       "2020-02-26       125   445      2    12  ...          2     3     60479555    9587\n",
       "2020-02-27       205   650      5    17  ...         42    45     60479350   12014\n",
       "2020-02-28       238   888      4    21  ...          1    46     60479112   15695\n",
       "2020-02-29       240  1128      8    29  ...          4    50     60478872   18661\n",
       "2020-03-01       566  1694      5    34  ...         33    83     60478306   21127\n",
       "2020-03-02       342  2036     18    52  ...         66   149     60477964   23345\n",
       "2020-03-03       466  2502     27    79  ...         11   160     60477498   25856\n",
       "2020-03-04       587  3089     28   107  ...        116   276     60476911   29837\n",
       "2020-03-05       769  3858     41   148  ...        138   414     60476142   32362\n",
       "2020-03-06       778  4636     49   197  ...        109   523     60475364   36359\n",
       "2020-03-07      1247  5883     36   233  ...         66   589     60474117   42062\n",
       "2020-03-08      1492  7375    133   366  ...         33   622     60472625   49937\n",
       "\n",
       "[19 rows x 10 columns]"
      ]
     },
     "execution_count": 10,
     "metadata": {
      "tags": []
     },
     "output_type": "execute_result"
    }
   ],
   "source": [
    "df['2020-01-31' :'2020-03-08']"
   ]
  },
  {
   "cell_type": "code",
   "execution_count": null,
   "metadata": {
    "colab": {
     "base_uri": "https://localhost:8080/",
     "height": 638
    },
    "executionInfo": {
     "elapsed": 565,
     "status": "ok",
     "timestamp": 1596004949497,
     "user": {
      "displayName": "Valentina A",
      "photoUrl": "",
      "userId": "05811507639483269545"
     },
     "user_tz": -120
    },
    "id": "eGJtqVUr6m8m",
    "outputId": "24bc65df-d5b0-45a6-b485-738605bd2ccb"
   },
   "outputs": [
    {
     "data": {
      "text/html": [
       "<div>\n",
       "<style scoped>\n",
       "    .dataframe tbody tr th:only-of-type {\n",
       "        vertical-align: middle;\n",
       "    }\n",
       "\n",
       "    .dataframe tbody tr th {\n",
       "        vertical-align: top;\n",
       "    }\n",
       "\n",
       "    .dataframe thead th {\n",
       "        text-align: right;\n",
       "    }\n",
       "</style>\n",
       "<table border=\"1\" class=\"dataframe\">\n",
       "  <thead>\n",
       "    <tr style=\"text-align: right;\">\n",
       "      <th></th>\n",
       "      <th>Date</th>\n",
       "      <th>I</th>\n",
       "    </tr>\n",
       "  </thead>\n",
       "  <tbody>\n",
       "    <tr>\n",
       "      <th>0</th>\n",
       "      <td>2020-01-31</td>\n",
       "      <td>2</td>\n",
       "    </tr>\n",
       "    <tr>\n",
       "      <th>1</th>\n",
       "      <td>2020-02-06</td>\n",
       "      <td>3</td>\n",
       "    </tr>\n",
       "    <tr>\n",
       "      <th>2</th>\n",
       "      <td>2020-02-21</td>\n",
       "      <td>19</td>\n",
       "    </tr>\n",
       "    <tr>\n",
       "      <th>3</th>\n",
       "      <td>2020-02-22</td>\n",
       "      <td>75</td>\n",
       "    </tr>\n",
       "    <tr>\n",
       "      <th>4</th>\n",
       "      <td>2020-02-23</td>\n",
       "      <td>147</td>\n",
       "    </tr>\n",
       "    <tr>\n",
       "      <th>5</th>\n",
       "      <td>2020-02-24</td>\n",
       "      <td>199</td>\n",
       "    </tr>\n",
       "    <tr>\n",
       "      <th>6</th>\n",
       "      <td>2020-02-25</td>\n",
       "      <td>309</td>\n",
       "    </tr>\n",
       "    <tr>\n",
       "      <th>7</th>\n",
       "      <td>2020-02-26</td>\n",
       "      <td>430</td>\n",
       "    </tr>\n",
       "    <tr>\n",
       "      <th>8</th>\n",
       "      <td>2020-02-27</td>\n",
       "      <td>588</td>\n",
       "    </tr>\n",
       "    <tr>\n",
       "      <th>9</th>\n",
       "      <td>2020-02-28</td>\n",
       "      <td>821</td>\n",
       "    </tr>\n",
       "    <tr>\n",
       "      <th>10</th>\n",
       "      <td>2020-02-29</td>\n",
       "      <td>1049</td>\n",
       "    </tr>\n",
       "    <tr>\n",
       "      <th>11</th>\n",
       "      <td>2020-03-01</td>\n",
       "      <td>1577</td>\n",
       "    </tr>\n",
       "    <tr>\n",
       "      <th>12</th>\n",
       "      <td>2020-03-02</td>\n",
       "      <td>1835</td>\n",
       "    </tr>\n",
       "    <tr>\n",
       "      <th>13</th>\n",
       "      <td>2020-03-03</td>\n",
       "      <td>2263</td>\n",
       "    </tr>\n",
       "    <tr>\n",
       "      <th>14</th>\n",
       "      <td>2020-03-04</td>\n",
       "      <td>2706</td>\n",
       "    </tr>\n",
       "    <tr>\n",
       "      <th>15</th>\n",
       "      <td>2020-03-05</td>\n",
       "      <td>3296</td>\n",
       "    </tr>\n",
       "    <tr>\n",
       "      <th>16</th>\n",
       "      <td>2020-03-06</td>\n",
       "      <td>3916</td>\n",
       "    </tr>\n",
       "    <tr>\n",
       "      <th>17</th>\n",
       "      <td>2020-03-07</td>\n",
       "      <td>5061</td>\n",
       "    </tr>\n",
       "    <tr>\n",
       "      <th>18</th>\n",
       "      <td>2020-03-08</td>\n",
       "      <td>6387</td>\n",
       "    </tr>\n",
       "  </tbody>\n",
       "</table>\n",
       "</div>"
      ],
      "text/plain": [
       "         Date     I\n",
       "0  2020-01-31     2\n",
       "1  2020-02-06     3\n",
       "2  2020-02-21    19\n",
       "3  2020-02-22    75\n",
       "4  2020-02-23   147\n",
       "5  2020-02-24   199\n",
       "6  2020-02-25   309\n",
       "7  2020-02-26   430\n",
       "8  2020-02-27   588\n",
       "9  2020-02-28   821\n",
       "10 2020-02-29  1049\n",
       "11 2020-03-01  1577\n",
       "12 2020-03-02  1835\n",
       "13 2020-03-03  2263\n",
       "14 2020-03-04  2706\n",
       "15 2020-03-05  3296\n",
       "16 2020-03-06  3916\n",
       "17 2020-03-07  5061\n",
       "18 2020-03-08  6387"
      ]
     },
     "execution_count": 11,
     "metadata": {
      "tags": []
     },
     "output_type": "execute_result"
    }
   ],
   "source": [
    "frame = { 'Date': df.reset_index()['Data'], 'I': df.reset_index()['Active']['Total'] } \n",
    "  \n",
    "data=pd.DataFrame(frame)\n",
    "data = data.set_index('Date')['2020-01-31' :'2020-03-08'].reset_index()\n",
    "data"
   ]
  },
  {
   "cell_type": "code",
   "execution_count": null,
   "metadata": {
    "id": "a4xW5vJpN-wk"
   },
   "outputs": [],
   "source": [
    "def SIR_eq(INPUT,t,  beta, gamma, mu):\n",
    "    S, I, R = INPUT\n",
    "    dS_dt = -(beta*S*I/N)\n",
    "    dI_dt =  (beta*S*I/N) - (gamma*I)-mu*I \n",
    "    dR_dt =  gamma*I\n",
    "    return dS_dt, dI_dt, dR_dt"
   ]
  },
  {
   "cell_type": "code",
   "execution_count": null,
   "metadata": {
    "id": "FR72HXygVTCy"
   },
   "outputs": [],
   "source": [
    "ndays = len(data)\n",
    "t = np.arange(1, ndays+1, 1)# initial population\n",
    "N=6000000\n",
    "y0 = N-100 ,100,0 \n",
    "\n",
    "# parameters\n",
    "d = 14 #average number of days to let individuals recover (recall : gamma = 1/d)\n",
    "mu = 0.048\n",
    "\n",
    "R0s = np.arange(0.2, 10, 0.001) #We test Ro from 1 to 2 by 0.001 increase."
   ]
  },
  {
   "cell_type": "code",
   "execution_count": null,
   "metadata": {
    "colab": {
     "base_uri": "https://localhost:8080/",
     "height": 34
    },
    "executionInfo": {
     "elapsed": 12955,
     "status": "ok",
     "timestamp": 1595965464989,
     "user": {
      "displayName": "Valentina A",
      "photoUrl": "",
      "userId": "05811507639483269545"
     },
     "user_tz": -120
    },
    "id": "LjALX8y3VTC1",
    "outputId": "679e5d54-c254-4f95-abc3-3e02c13685de"
   },
   "outputs": [
    {
     "name": "stdout",
     "output_type": "stream",
     "text": [
      "BEST MODEL: RO: 4.43, MSE:136.74\n"
     ]
    }
   ],
   "source": [
    "'''\n",
    "5. Write a loop to test the different parameters:\n",
    "   \n",
    "   -compute the error with the MSE\n",
    "'''\n",
    "MSEs = []\n",
    "I_hats = []\n",
    "\n",
    "for R0 in R0s:\n",
    "    beta= R0*1/d \n",
    "    gamma= 1/d\n",
    "    \n",
    "    #YOUR CODE HERE\n",
    "    \n",
    "    \n",
    "    # Run the model over time \n",
    "    RES = odeint(SIR_eq, y0, t, args=(beta, gamma, mu))\n",
    "    S, I_hat, R = RES.T\n",
    "\n",
    "    I_hats.append(I_hat)\n",
    "    \n",
    "    MSE = np.sqrt(sum((I_hat-data.I)**2)/len(data.I))\n",
    "\n",
    "    MSEs.append(MSE)\n",
    "\n",
    "cal = pd.DataFrame({'R0': R0s, 'MSE': MSEs, 'I_hat': I_hats})\n",
    "\n",
    "\n",
    "'''\n",
    "6. Pick the best model \n",
    "'''\n",
    "#YOUR CODE HERE\n",
    "    \n",
    "best_model = cal.loc[cal['MSE'].idxmin()]\n",
    "print('BEST MODEL: RO: {}, MSE:{}'.format(round(best_model['R0'], 2), round(best_model['MSE'],2)))"
   ]
  },
  {
   "cell_type": "code",
   "execution_count": null,
   "metadata": {
    "colab": {
     "base_uri": "https://localhost:8080/",
     "height": 365
    },
    "executionInfo": {
     "elapsed": 30916,
     "status": "ok",
     "timestamp": 1595965483355,
     "user": {
      "displayName": "Valentina A",
      "photoUrl": "",
      "userId": "05811507639483269545"
     },
     "user_tz": -120
    },
    "id": "wxjPYyE1VTC8",
    "outputId": "c87c62e7-cfd5-429d-81c0-2d0fdca07fd1"
   },
   "outputs": [
    {
     "data": {
      "image/png": "[encoded data removed]",
      "text/plain": [
       "<Figure size 1368x360 with 3 Axes>"
      ]
     },
     "metadata": {
      "tags": []
     },
     "output_type": "display_data"
    }
   ],
   "source": [
    "'''\n",
    "7. Some Plots\n",
    "'''\n",
    "fig, axs = plt.subplots(1,3, facecolor='w', figsize=(19,5))\n",
    "axs[0].set_title('Best Model: \\n RO: {}, MSE:{}'.format(round(best_model['R0'], 2), round(best_model['MSE'],2)))\n",
    "axs[0].scatter(t, data.I, color = 'b', label = 'I_data')\n",
    "axs[0].plot(t ,best_model['I_hat'], alpha=1, lw=2, label='I_hat', color = 'darkred')\n",
    "\n",
    "axs[1].set_title('Models Tested')\n",
    "axs[1].plot(t, I_hats[0], alpha=0.5,  color = 'k', lw=1, label ='models tested' )\n",
    "for R0, I in zip(R0s, I_hats[1:]):\n",
    "    if R0 == best_model['R0']:\n",
    "        axs[1].plot(t, I, c = 'darkred', lw=5, label = 'best model')\n",
    "    else:\n",
    "        axs[1].plot(t, I, alpha=0.05,  color = 'k', lw=1)\n",
    "    \n",
    "axs[2].set_title('MSEs')\n",
    "axs[2].scatter(cal['R0'], cal['MSE'], color = 'k' , s =1 )\n",
    "axs[2].scatter(best_model['R0'], best_model['MSE'], color = 'darkred' , s =50, label='min MSE' )\n",
    "axs[2].axvline(x= best_model['R0'], ymin=0, ymax=2, c= 'b')\n",
    "axs[2].set_xlabel('R0s')\n",
    "axs[2].set_ylabel('MSEs')\n",
    "\n",
    "for i in range(3):\n",
    "    axs[i].legend(fancybox = True)\n",
    "    for spine in ('top', 'right'): \n",
    "        axs[i].spines[spine].set_visible(False)"
   ]
  },
  {
   "cell_type": "code",
   "execution_count": null,
   "metadata": {
    "id": "7TFA-83PVTDG"
   },
   "outputs": [],
   "source": [
    "ndays = len(df)\n",
    "t = np.arange(1, ndays+1, 1)\n",
    "beta = 4.43*1/14\n",
    "gamma = 1/14\n",
    "\n",
    "RES = odeint(SIR_eq, y0, t, args=(beta, gamma, mu))\n",
    "S, I_hat, R = RES.T"
   ]
  },
  {
   "cell_type": "code",
   "execution_count": null,
   "metadata": {
    "colab": {
     "base_uri": "https://localhost:8080/",
     "height": 293
    },
    "executionInfo": {
     "elapsed": 809,
     "status": "ok",
     "timestamp": 1596005058681,
     "user": {
      "displayName": "Valentina A",
      "photoUrl": "",
      "userId": "05811507639483269545"
     },
     "user_tz": -120
    },
    "id": "MeCiMSPyVTDI",
    "outputId": "f4bc63ef-91a1-4ee4-bf50-d68adf0472be"
   },
   "outputs": [
    {
     "data": {
      "text/plain": [
       "[<matplotlib.lines.Line2D at 0x7fd0522602e8>]"
      ]
     },
     "execution_count": 17,
     "metadata": {
      "tags": []
     },
     "output_type": "execute_result"
    },
    {
     "data": {
      "image/png": "[encoded data removed]",
      "text/plain": [
       "<Figure size 432x288 with 1 Axes>"
      ]
     },
     "metadata": {
      "needs_background": "light",
      "tags": []
     },
     "output_type": "display_data"
    }
   ],
   "source": [
    "plt.plot(I_hat)"
   ]
  },
  {
   "cell_type": "code",
   "execution_count": null,
   "metadata": {
    "colab": {
     "base_uri": "https://localhost:8080/",
     "height": 221
    },
    "executionInfo": {
     "elapsed": 814,
     "status": "ok",
     "timestamp": 1596006491420,
     "user": {
      "displayName": "Valentina A",
      "photoUrl": "",
      "userId": "05811507639483269545"
     },
     "user_tz": -120
    },
    "id": "_V7IXbTcYTx6",
    "outputId": "b0fea9ba-16f9-44e7-d036-c6c859050e0f"
   },
   "outputs": [
    {
     "data": {
      "text/plain": [
       "0     2020-01-31\n",
       "1     2020-02-06\n",
       "2     2020-02-21\n",
       "3     2020-02-22\n",
       "4     2020-02-23\n",
       "         ...    \n",
       "152   2020-07-20\n",
       "153   2020-07-21\n",
       "154   2020-07-22\n",
       "155   2020-07-23\n",
       "156   2020-07-24\n",
       "Name: Data, Length: 157, dtype: datetime64[ns]"
      ]
     },
     "execution_count": 26,
     "metadata": {
      "tags": []
     },
     "output_type": "execute_result"
    }
   ],
   "source": [
    "df.Data"
   ]
  },
  {
   "cell_type": "code",
   "execution_count": null,
   "metadata": {
    "colab": {
     "base_uri": "https://localhost:8080/",
     "height": 353
    },
    "executionInfo": {
     "elapsed": 1406,
     "status": "ok",
     "timestamp": 1596006578356,
     "user": {
      "displayName": "Valentina A",
      "photoUrl": "",
      "userId": "05811507639483269545"
     },
     "user_tz": -120
    },
    "id": "yptI9q0eVTDL",
    "outputId": "09abfa8b-474e-49ca-a5c4-9cafdc5cc729"
   },
   "outputs": [
    {
     "data": {
      "text/plain": [
       "<matplotlib.legend.Legend at 0x7fd05173b470>"
      ]
     },
     "execution_count": 30,
     "metadata": {
      "tags": []
     },
     "output_type": "execute_result"
    },
    {
     "data": {
      "image/png": "[encoded data removed]",
      "text/plain": [
       "<Figure size 1368x360 with 2 Axes>"
      ]
     },
     "metadata": {
      "tags": []
     },
     "output_type": "display_data"
    }
   ],
   "source": [
    "import matplotlib.pyplot as plt\n",
    "#df= df.reset_index()\n",
    "df_beg = df[]\n",
    "\n",
    "fig, axs = plt.subplots(1,2, facecolor='w', figsize=(19,5))\n",
    "axs[0].set_title(' tot n° of cumulative positive cases per day')\n",
    "axs[0].bar(df.Data, height=df['Confirmed']['Total'], color = 'k',alpha = 0.4)\n",
    "axs[0].plot(df.Data ,df['Confirmed']['Total'], color = 'darkred',alpha = 1, lw= 3)\n",
    "\n",
    "axs[1].set_title('Infected, Recovered, Deaths')\n",
    "axs[1].plot(df.Data,df['Active']['Total'],color = 'darkred',alpha = 1, lw= 3, label = 'Infected')\n",
    "axs[1].plot(df.Data,df['Recoveries']['Total'],color = 'green',alpha = 1, lw= 3, label = 'Recovered')\n",
    "axs[1].plot(df.Data,df['Deaths']['Total'], color = 'black',alpha = 1, lw= 3, label = 'Deaths')\n",
    "axs[1].legend()\n"
   ]
  },
  {
   "cell_type": "code",
   "execution_count": null,
   "metadata": {
    "colab": {
     "base_uri": "https://localhost:8080/",
     "height": 353
    },
    "executionInfo": {
     "elapsed": 1392,
     "status": "ok",
     "timestamp": 1596006803842,
     "user": {
      "displayName": "Valentina A",
      "photoUrl": "",
      "userId": "05811507639483269545"
     },
     "user_tz": -120
    },
    "id": "kcsp9KWiap2V",
    "outputId": "fec0b268-cee0-4558-9c4c-aad6bb3eb789"
   },
   "outputs": [
    {
     "data": {
      "text/plain": [
       "<matplotlib.legend.Legend at 0x7fd051479898>"
      ]
     },
     "execution_count": 32,
     "metadata": {
      "tags": []
     },
     "output_type": "execute_result"
    },
    {
     "data": {
      "image/png": "[encoded data removed]",
      "text/plain": [
       "<Figure size 1368x360 with 2 Axes>"
      ]
     },
     "metadata": {
      "tags": []
     },
     "output_type": "display_data"
    }
   ],
   "source": [
    "df = df.set_index('Data')['2020-01-31' :'2020-03-08'].reset_index()\n",
    "fig, axs = plt.subplots(1,2, facecolor='w', figsize=(19,5))\n",
    "axs[0].set_title(' tot n° of cumulative positive cases per day')\n",
    "axs[0].bar(df.Data, height=df['Confirmed']['Total'], color = 'k',alpha = 0.4)\n",
    "axs[0].plot(df.Data ,df['Confirmed']['Total'], color = 'darkred',alpha = 1, lw= 3)\n",
    "\n",
    "axs[1].set_title('Infected, Recovered, Deaths')\n",
    "axs[1].plot(df.Data,df['Active']['Total'],color = 'darkred',alpha = 1, lw= 3, label = 'Infected')\n",
    "axs[1].plot(df.Data,df['Recoveries']['Total'],color = 'green',alpha = 1, lw= 3, label = 'Recovered')\n",
    "axs[1].plot(df.Data,df['Deaths']['Total'], color = 'black',alpha = 1, lw= 3, label = 'Deaths')\n",
    "axs[1].legend()"
   ]
  }
 ],
 "metadata": {
  "colab": {
   "name": "Thesis with real data.ipynb",
   "provenance": [],
   "toc_visible": true
  },
  "kernelspec": {
   "display_name": "Python 3",
   "language": "python",
   "name": "python3"
  },
  "language_info": {
   "codemirror_mode": {
    "name": "ipython",
    "version": 3
   },
   "file_extension": ".py",
   "mimetype": "text/x-python",
   "name": "python",
   "nbconvert_exporter": "python",
   "pygments_lexer": "ipython3",
   "version": "3.7.4"
  }
 },
 "nbformat": 4,
 "nbformat_minor": 4
}
